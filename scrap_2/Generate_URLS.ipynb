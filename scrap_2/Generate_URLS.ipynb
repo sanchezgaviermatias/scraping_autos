{
 "cells": [
  {
   "cell_type": "markdown",
   "metadata": {},
   "source": [
    "### Librerias"
   ]
  },
  {
   "cell_type": "code",
   "execution_count": 1,
   "metadata": {},
   "outputs": [
    {
     "name": "stdout",
     "output_type": "stream",
     "text": [
      "importing Jupyter notebook from metodos_scraping.ipynb\n",
      "importing Jupyter notebook from metodos_scraping.ipynb\n"
     ]
    }
   ],
   "source": [
    "import time\n",
    "from datetime import datetime\n",
    "from selenium.webdriver.chrome.options import Options\n",
    "from selenium import webdriver\n",
    "from selenium import webdriver\n",
    "from selenium.webdriver.support.ui import WebDriverWait\n",
    "from selenium.webdriver.common.by import By\n",
    "from selenium.webdriver.support import expected_conditions as EC\n",
    "from selenium.webdriver.common.keys import Keys\n",
    "from selenium.webdriver.support.ui import Select\n",
    "from bs4 import BeautifulSoup\n",
    "from selenium import webdriver\n",
    "import pprint\n",
    "import pandas as pd\n",
    "import names as nm\n",
    "import numpy as np\n",
    "import traceback\n",
    "import import_ipynb\n",
    "import importlib;\n",
    "import metodos_scraping;\n",
    "from metodos_scraping import *;\n",
    "import tbselenium\n",
    "import datetime\n",
    "#Recargar modulo\n",
    "importlib.reload(metodos_scraping);"
   ]
  },
  {
   "cell_type": "markdown",
   "metadata": {},
   "source": [
    "###  Selenium"
   ]
  },
  {
   "cell_type": "code",
   "execution_count": 2,
   "metadata": {},
   "outputs": [
    {
     "name": "stdout",
     "output_type": "stream",
     "text": [
      "Tiempo estimado total es: 3.33, minutos\n",
      "*1 - ID, Obteniendo el perfil\n",
      "[{'L/17': '23022'}, {'SS CONVERTIBLE         L/17': '44242'}]\n",
      "L/17\n",
      "23022\n",
      "L/17\n",
      "\n",
      "L/17\n",
      "SS CONVERTIBLE L/17\n",
      "\n",
      "*2 - ID, Obteniendo el perfil\n",
      "[{'L/16 1.6 4 P S': '21942'}, {'L/16 2.0 5 P TITANIUM POWER': '21946'}, {'L/16 2.0 5 P SE': '21954'}, {'L/16 2.0 4 P SE PLUS': '21961'}, {'L/16 1.6 5 P S': '21966'}, {'L/16 2.0 4 P SE': '21975'}, {'L/16 2.0 4 P TITANIUM POWER': '21982'}, {'L/16 2.0 5 P SE PLUS': '21995'}, {'L/16 2.0 4 P SE PLUS POWER': '21996'}, {'L/16 2.0 5 P SE PLUS POWER': '22000'}, {'L/16 2.0 5 P TITANIUM': '22010'}, {'L/16 2.0 4 P TITANIUM': '22017'}, {'L/16 2.0 4 P SE AUT': '23247'}, {'L/16 2.0 5 P SE AUT': '23248'}]\n",
      "L/16 1.6 4 P S\n",
      "21942\n",
      "L/16 1.6 4 P S\n",
      "\n",
      "L/16 1.6 4 P S\n",
      "L/16 2.0 5 P TITANIUM POWER\n",
      "L/16 2.0 5 P SE\n",
      "L/16 2.0 4 P SE PLUS\n",
      "L/16 1.6 5 P S\n",
      "L/16 2.0 4 P SE\n",
      "L/16 2.0 4 P TITANIUM POWER\n",
      "L/16 2.0 5 P SE PLUS\n",
      "L/16 2.0 4 P SE PLUS POWER\n",
      "L/16 2.0 5 P SE PLUS POWER\n",
      "L/16 2.0 5 P TITANIUM\n",
      "L/16 2.0 4 P TITANIUM\n",
      "L/16 2.0 4 P SE AUT\n",
      "L/16 2.0 5 P SE AUT\n",
      "\n",
      "\n",
      "*3 - ID, Obteniendo el perfil\n",
      "[{'1.8 SE-G L/19 CVT HYBRID': '44394'}, {'2.0 SE-G L/19 CVT': '44395'}, {'2.0 XLI  L/20 CVT': '44586'}, {'1.8 XEI L/20 CVT HYBRID': '44587'}, {'2.0 XLI  L/20': '44588'}, {'2.0 XEI  L/20': '44589'}, {'2.0 XEI  L/20 CVT': '44590'}, {'2.0 GR-SPORT  CVT': '46674'}]\n",
      "2.0 XEI L/20 CVT\n",
      "44590\n",
      "2.0 XEI L/20 CVT\n",
      "\n",
      "1.8 SE-G L/19 CVT HYBRID\n",
      "2.0 SE-G L/19 CVT\n",
      "2.0 XLI L/20 CVT\n",
      "1.8 XEI L/20 CVT HYBRID\n",
      "2.0 XLI L/20\n",
      "2.0 XEI L/20\n",
      "2.0 XEI L/20 CVT\n",
      "2.0 GR-SPORT CVT\n",
      "\n",
      "*4 - ID, Obteniendo el perfil\n",
      "[{'L/16 2.4 DC 4X2 TDI SR': '22211'}, {'L/16 2.8 DC 4X4 TDI SRX AUT': '22212'}, {'L/16 2.4 SC 4X2 TDI DX': '22213'}, {'L/16 2.8 DC 4X4 TDI SR': '22217'}, {'L/16 2.8 DC 4X4 TDI SRV': '22219'}, {'L/16 2.8 DC 4X4 TDI SRV AUT': '22220'}, {'L/16 2.8 DC 4X4 TDI SRX': '22223'}, {'L/16 2.4 DC 4X4 TDI DX': '22224'}, {'L/16 2.8 DC 4X2 TDI SRV': '22225'}, {'L/16 2.4 SC 4X4 TDI DX': '22227'}, {'L/16 2.4 DC 4X2 TDI DX': '22228'}, {'SW4 TDI SRX             L/16': '22238'}, {'SW4 TDI SRX AUT         L/16': '22241'}, {'SW4 TDI SR              L/16': '22732'}, {'L/16 2.8 DC 4X2 TDI SRX AT6': '23160'}, {'L/16 2.8 DC 4X2 TDI SRX': '23161'}, {'L/16 2.8 DC 4X2 TDI SRV AT6': '23162'}, {'L/19 2.8 DC 4X4 TDI GR-S AUT': '32819'}, {'L/19 2.8 DC 4X4 TDI GR-S': '32820'}, {'SW4 TDI SR AUT          L/16': '33158'}, {'L/19 4.0 DC 4X4 V6  GR-S AUT': '44393'}]\n",
      "L/16 2.4 DC 4x4 TDI DX\n",
      "22224\n",
      "L/16 2.4 DC 4X4 TDI DX\n",
      "\n",
      "L/16 2.4 DC 4X2 TDI SR\n",
      "L/16 2.8 DC 4X4 TDI SRX AUT\n",
      "L/16 2.4 SC 4X2 TDI DX\n",
      "L/16 2.8 DC 4X4 TDI SR\n",
      "L/16 2.8 DC 4X4 TDI SRV\n",
      "L/16 2.8 DC 4X4 TDI SRV AUT\n",
      "L/16 2.8 DC 4X4 TDI SRX\n",
      "L/16 2.4 DC 4X4 TDI DX\n",
      "L/16 2.8 DC 4X2 TDI SRV\n",
      "L/16 2.4 SC 4X4 TDI DX\n",
      "L/16 2.4 DC 4X2 TDI DX\n",
      "SW4 TDI SRX L/16\n",
      "SW4 TDI SRX AUT L/16\n",
      "SW4 TDI SR L/16\n",
      "L/16 2.8 DC 4X2 TDI SRX AT6\n",
      "L/16 2.8 DC 4X2 TDI SRX\n",
      "L/16 2.8 DC 4X2 TDI SRV AT6\n",
      "L/19 2.8 DC 4X4 TDI GR-S AUT\n",
      "L/19 2.8 DC 4X4 TDI GR-S\n",
      "SW4 TDI SR AUT L/16\n",
      "L/19 4.0 DC 4X4 V6 GR-S AUT\n",
      "\n",
      "\n",
      "*5 - ID, Obteniendo el perfil\n",
      "[{'1.4 LS JOY  L/17': '22711'}, {'1.4 LTZ AT  L/17': '22712'}, {'1.4 EFFECT  L/17': '22714'}, {'1.4 ACTIV  L/17': '22715'}, {'1.4 LT  L/17': '22722'}, {'1.4 LS JOY +  L/17': '22741'}, {'1.4 LTZ  L/17': '22746'}]\n",
      "1.4 LT L/17\n",
      "22722\n",
      "1.4 LT L/17\n",
      "\n",
      "1.4 LS JOY L/17\n",
      "1.4 LTZ AT L/17\n",
      "1.4 EFFECT L/17\n",
      "1.4 ACTIV L/17\n",
      "1.4 LT L/17\n",
      "1.4 LS JOY + L/17\n",
      "1.4 LTZ L/17\n",
      "\n",
      "\n",
      "{'1': 'https://www.comparaencasa.com/seguros-de-auto/cotizador/?car_brand=28&year=2020', '2': 'https://www.comparaencasa.com/seguros-de-auto/resultados/ford-en-focus-l-16-1-6-4-p-s-capital-federal/c7a1294e28bc43ad8bfda0387f413c33/', '3': 'https://www.comparaencasa.com/seguros-de-auto/resultados/toyota-en-corolla-2-0-xei-l-20-cvt-capital-federal/fa2675522f8c4017a4993887f7f7d4a1/', '4': 'https://www.comparaencasa.com/seguros-de-auto/cotizador/?car_brand=153&year=2019', '5': 'https://www.comparaencasa.com/seguros-de-auto/cotizador/?car_brand=28&year=2018'}\n",
      "Wall time: 11min 41s\n"
     ]
    },
    {
     "data": {
      "text/plain": [
       "{'1': 'https://www.comparaencasa.com/seguros-de-auto/cotizador/?car_brand=28&year=2020',\n",
       " '2': 'https://www.comparaencasa.com/seguros-de-auto/resultados/ford-en-focus-l-16-1-6-4-p-s-capital-federal/c7a1294e28bc43ad8bfda0387f413c33/',\n",
       " '3': 'https://www.comparaencasa.com/seguros-de-auto/resultados/toyota-en-corolla-2-0-xei-l-20-cvt-capital-federal/fa2675522f8c4017a4993887f7f7d4a1/',\n",
       " '4': 'https://www.comparaencasa.com/seguros-de-auto/cotizador/?car_brand=153&year=2019',\n",
       " '5': 'https://www.comparaencasa.com/seguros-de-auto/cotizador/?car_brand=28&year=2018'}"
      ]
     },
     "execution_count": 2,
     "metadata": {},
     "output_type": "execute_result"
    }
   ],
   "source": [
    "%%time\n",
    "get_all_perfiles()"
   ]
  },
  {
   "cell_type": "code",
   "execution_count": null,
   "metadata": {},
   "outputs": [],
   "source": []
  }
 ],
 "metadata": {
  "kernelspec": {
   "display_name": "Python 3",
   "language": "python",
   "name": "python3"
  },
  "language_info": {
   "codemirror_mode": {
    "name": "ipython",
    "version": 3
   },
   "file_extension": ".py",
   "mimetype": "text/x-python",
   "name": "python",
   "nbconvert_exporter": "python",
   "pygments_lexer": "ipython3",
   "version": "3.8.5"
  }
 },
 "nbformat": 4,
 "nbformat_minor": 4
}
