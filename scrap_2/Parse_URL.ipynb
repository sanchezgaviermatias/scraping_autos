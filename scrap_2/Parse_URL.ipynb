{
 "cells": [
  {
   "cell_type": "code",
   "execution_count": 11,
   "metadata": {},
   "outputs": [
    {
     "name": "stdout",
     "output_type": "stream",
     "text": [
      "importing Jupyter notebook from metodos_scraping.ipynb\n"
     ]
    }
   ],
   "source": [
    "import time\n",
    "from datetime import datetime\n",
    "from selenium.webdriver.chrome.options import Options\n",
    "from selenium import webdriver\n",
    "from selenium import webdriver\n",
    "from selenium.webdriver.support.ui import WebDriverWait\n",
    "from selenium.webdriver.common.by import By\n",
    "from selenium.webdriver.support import expected_conditions as EC\n",
    "from selenium.webdriver.common.keys import Keys\n",
    "from selenium.webdriver.support.ui import Select\n",
    "from bs4 import BeautifulSoup\n",
    "from selenium import webdriver\n",
    "import pprint\n",
    "import pandas as pd\n",
    "import names as nm\n",
    "import numpy as np\n",
    "import traceback\n",
    "import import_ipynb\n",
    "import importlib;\n",
    "import metodos_scraping;\n",
    "from metodos_scraping import *;\n",
    "import datetime\n",
    "from selenium.webdriver.common.desired_capabilities import DesiredCapabilities\n",
    "#Recargar modulo\n",
    "importlib.reload(metodos_scraping);\n",
    "import json\n",
    "import ast"
   ]
  },
  {
   "cell_type": "code",
   "execution_count": 12,
   "metadata": {},
   "outputs": [],
   "source": [
    "def generete_all_data(ids):\n",
    "    for id_ in ids:\n",
    "        #GET URL from EXCEL\n",
    "        try:\n",
    "            urls = pd.read_excel(\"./urls.xlsx\")\n",
    "            url = urls[urls[\"Id\"]==id_][\"Seguros\"]\n",
    "            url = url.to_list()[0]\n",
    "        except:\n",
    "            print(f\"el id {_id} no existe\")\n",
    "            break\n",
    "        \n",
    "        #OBTAIN DATA\n",
    "        '''Opciones básicas de Selenium'''\n",
    "        options = Options()\n",
    "        options.add_argument(\"--window-size=929,1080\")\n",
    "        options.add_argument(\"start-maximized\")\n",
    "        options.add_experimental_option(\"excludeSwitches\", [\"enable-automation\"])\n",
    "        options.add_experimental_option('useAutomationExtension', False)\n",
    "        capabilities = DesiredCapabilities.CHROME\n",
    "        capabilities[\"goog:loggingPrefs\"] = {\"performance\": \"ALL\"} \n",
    "\n",
    "        driver = webdriver.Chrome(options=options,desired_capabilities= capabilities)\n",
    "\n",
    "\n",
    "        #url = \"https://www.comparaencasa.com/seguros-de-auto/resultados/renault-en-fluence-1-6-dynamique-l-15-capital-federal/e2b7f69385c94f0a92b53d6be510c857/\"\n",
    "        url = url\n",
    "        driver.get(url)\n",
    "        time.sleep(12)\n",
    "\n",
    "\n",
    "        #Cerrar anuncio superior\n",
    "        try:\n",
    "            url= \"/html/body/div[1]/div/div/div/div[2]/button[1]\"\n",
    "            click(url, driver)\n",
    "        except:\n",
    "            print(\"\")\n",
    "\n",
    "\n",
    "        #Cerrar mina\n",
    "        try:\n",
    "            click( \"launcher\",driver, atributo=\"class\")\n",
    "        except:\n",
    "            print(\"\")\n",
    "\n",
    "            \n",
    "        #TOdo Riesgo\n",
    "        precios_y_suma(driver,_id= _id )\n",
    "\n",
    "        #Terceros Completo\n",
    "        url = \"/html/body/div[2]/div[2]/div/div/div/div[2]/div/ul/li[4]/a\"\n",
    "        click(url, driver)\n",
    "        precios_y_suma(driver, cobertura=\"Terceros Completo\", _id= _id )\n",
    "\n",
    "        #Terceros Basico\n",
    "        url = \"/html/body/div[2]/div[2]/div/div/div/div[2]/div/ul/li[3]/a\"\n",
    "        click(url, driver)\n",
    "        precios_y_suma(driver, cobertura=\"Terceros Basico\", _id= _id )\n"
   ]
  },
  {
   "cell_type": "code",
   "execution_count": 4,
   "metadata": {},
   "outputs": [
    {
     "name": "stdout",
     "output_type": "stream",
     "text": [
      "fallo con compania:  Hipotecario Seguros\n",
      "fallo con compania:  La Meridional\n",
      "fallo con compania:  Nacion\n",
      "fallo con compania:  Hipotecario Seguros\n",
      "fallo con compania:  La Meridional\n",
      "fallo con compania:  Nacion\n",
      "fallo con compania:  Hipotecario Seguros\n",
      "fallo con compania:  La Meridional\n",
      "fallo con compania:  Nacion\n",
      "fallo con compania:  Hipotecario Seguros\n",
      "fallo con compania:  La Meridional\n",
      "fallo con compania:  Nacion\n",
      "fallo con compania:  Hipotecario Seguros\n",
      "fallo con compania:  La Meridional\n",
      "fallo con compania:  Nacion\n",
      "fallo con compania:  Hipotecario Seguros\n",
      "fallo con compania:  Caruso\n",
      "fallo con compania:  La Meridional\n",
      "Wall time: 10min 53s\n"
     ]
    }
   ],
   "source": [
    "%%time\n",
    "generete_all_data([1,2])"
   ]
  }
 ],
 "metadata": {
  "kernelspec": {
   "display_name": "Python 3",
   "language": "python",
   "name": "python3"
  },
  "language_info": {
   "codemirror_mode": {
    "name": "ipython",
    "version": 3
   },
   "file_extension": ".py",
   "mimetype": "text/x-python",
   "name": "python",
   "nbconvert_exporter": "python",
   "pygments_lexer": "ipython3",
   "version": "3.8.5"
  }
 },
 "nbformat": 4,
 "nbformat_minor": 4
}
