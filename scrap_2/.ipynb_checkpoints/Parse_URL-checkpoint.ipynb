{
 "cells": [
  {
   "cell_type": "code",
   "execution_count": 6,
   "metadata": {},
   "outputs": [
    {
     "name": "stdout",
     "output_type": "stream",
     "text": [
      "importing Jupyter notebook from metodos_scraping.ipynb\n"
     ]
    },
    {
     "ename": "SyntaxError",
     "evalue": "non-default argument follows default argument (<string>, line 1)",
     "output_type": "error",
     "traceback": [
      "Traceback \u001b[1;36m(most recent call last)\u001b[0m:\n",
      "  File \u001b[0;32m\"C:\\Users\\Matias\\anaconda3\\lib\\site-packages\\IPython\\core\\interactiveshell.py\"\u001b[0m, line \u001b[0;32m3418\u001b[0m, in \u001b[0;35mrun_code\u001b[0m\n    exec(code_obj, self.user_global_ns, self.user_ns)\n",
      "  File \u001b[0;32m\"<ipython-input-6-a709fcdc78e5>\"\u001b[0m, line \u001b[0;32m25\u001b[0m, in \u001b[0;35m<module>\u001b[0m\n    importlib.reload(metodos_scraping);\n",
      "  File \u001b[0;32m\"C:\\Users\\Matias\\anaconda3\\lib\\importlib\\__init__.py\"\u001b[0m, line \u001b[0;32m169\u001b[0m, in \u001b[0;35mreload\u001b[0m\n    _bootstrap._exec(spec, module)\n",
      "  File \u001b[0;32m\"<frozen importlib._bootstrap>\"\u001b[0m, line \u001b[0;32m602\u001b[0m, in \u001b[0;35m_exec\u001b[0m\n",
      "\u001b[1;36m  File \u001b[1;32m\"C:\\Users\\Matias\\anaconda3\\lib\\site-packages\\import_ipynb.py\"\u001b[1;36m, line \u001b[1;32m61\u001b[1;36m, in \u001b[1;35mload_module\u001b[1;36m\u001b[0m\n\u001b[1;33m    exec(code, mod.__dict__)\u001b[0m\n",
      "\u001b[1;36m  File \u001b[1;32m\"<string>\"\u001b[1;36m, line \u001b[1;32m1\u001b[0m\n\u001b[1;31mSyntaxError\u001b[0m\u001b[1;31m:\u001b[0m non-default argument follows default argument\n"
     ]
    }
   ],
   "source": [
    "import time\n",
    "from datetime import datetime\n",
    "from selenium.webdriver.chrome.options import Options\n",
    "from selenium import webdriver\n",
    "from selenium import webdriver\n",
    "from selenium.webdriver.support.ui import WebDriverWait\n",
    "from selenium.webdriver.common.by import By\n",
    "from selenium.webdriver.support import expected_conditions as EC\n",
    "from selenium.webdriver.common.keys import Keys\n",
    "from selenium.webdriver.support.ui import Select\n",
    "from bs4 import BeautifulSoup\n",
    "from selenium import webdriver\n",
    "import pprint\n",
    "import pandas as pd\n",
    "import names as nm\n",
    "import numpy as np\n",
    "import traceback\n",
    "import import_ipynb\n",
    "import importlib;\n",
    "import metodos_scraping;\n",
    "from metodos_scraping import *;\n",
    "import datetime\n",
    "from selenium.webdriver.common.desired_capabilities import DesiredCapabilities\n",
    "#Recargar modulo\n",
    "importlib.reload(metodos_scraping);\n",
    "import json\n",
    "import ast"
   ]
  },
  {
   "cell_type": "code",
   "execution_count": 3,
   "metadata": {},
   "outputs": [],
   "source": [
    "def generete_all_data(ids):\n",
    "    for id_ in ids:\n",
    "        #GET URL from EXCEL\n",
    "        try:\n",
    "            urls = pd.read_excel(\"./urls.xlsx\")\n",
    "            url = urls[urls[\"Id\"]==id_][\"Seguros\"]\n",
    "            url = url.to_list()[0]\n",
    "        except:\n",
    "            print(f\"el id {_id} no existe\")\n",
    "            break\n",
    "        \n",
    "        #OBTAIN DATA\n",
    "        '''Opciones básicas de Selenium'''\n",
    "        options = Options()\n",
    "        options.add_argument(\"--window-size=929,1080\")\n",
    "        options.add_argument(\"start-maximized\")\n",
    "        options.add_experimental_option(\"excludeSwitches\", [\"enable-automation\"])\n",
    "        options.add_experimental_option('useAutomationExtension', False)\n",
    "        capabilities = DesiredCapabilities.CHROME\n",
    "        capabilities[\"goog:loggingPrefs\"] = {\"performance\": \"ALL\"} \n",
    "\n",
    "        driver = webdriver.Chrome(options=options,desired_capabilities= capabilities)\n",
    "\n",
    "\n",
    "        #url = \"https://www.comparaencasa.com/seguros-de-auto/resultados/renault-en-fluence-1-6-dynamique-l-15-capital-federal/e2b7f69385c94f0a92b53d6be510c857/\"\n",
    "        url = url\n",
    "        driver.get(url)\n",
    "        time.sleep(12)\n",
    "\n",
    "\n",
    "        #Cerrar anuncio superior\n",
    "        try:\n",
    "            url= \"/html/body/div[1]/div/div/div/div[2]/button[1]\"\n",
    "            click(url, driver)\n",
    "        except:\n",
    "            print(\"\")\n",
    "\n",
    "\n",
    "        #Cerrar mina\n",
    "        try:\n",
    "            click( \"launcher\",driver, atributo=\"class\")\n",
    "        except:\n",
    "            print(\"\")\n",
    "\n",
    "            \n",
    "        #TOdo Riesgo\n",
    "        precios_y_suma(driver, )\n",
    "\n",
    "        #Terceros Completo\n",
    "        url = \"/html/body/div[2]/div[2]/div/div/div/div[2]/div/ul/li[4]/a\"\n",
    "        click(url, driver)\n",
    "        precios_y_suma(driver, cobertura=\"Terceros Completo\")\n",
    "\n",
    "        #Terceros Basico\n",
    "        url = \"/html/body/div[2]/div[2]/div/div/div/div[2]/div/ul/li[3]/a\"\n",
    "        click(url, driver)\n",
    "        precios_y_suma(driver, cobertura=\"Terceros Basico\")\n"
   ]
  },
  {
   "cell_type": "code",
   "execution_count": 4,
   "metadata": {},
   "outputs": [
    {
     "name": "stdout",
     "output_type": "stream",
     "text": [
      "fallo con compania:  Hipotecario Seguros\n",
      "fallo con compania:  La Meridional\n",
      "fallo con compania:  Nacion\n",
      "fallo con compania:  Hipotecario Seguros\n",
      "fallo con compania:  La Meridional\n",
      "fallo con compania:  Nacion\n",
      "fallo con compania:  Hipotecario Seguros\n",
      "fallo con compania:  La Meridional\n",
      "fallo con compania:  Nacion\n",
      "fallo con compania:  Hipotecario Seguros\n",
      "fallo con compania:  La Meridional\n",
      "fallo con compania:  Nacion\n",
      "fallo con compania:  Hipotecario Seguros\n",
      "fallo con compania:  La Meridional\n",
      "fallo con compania:  Nacion\n",
      "fallo con compania:  Hipotecario Seguros\n",
      "fallo con compania:  Caruso\n",
      "fallo con compania:  La Meridional\n",
      "Wall time: 10min 53s\n"
     ]
    }
   ],
   "source": [
    "%%time\n",
    "generete_all_data([1,2])"
   ]
  }
 ],
 "metadata": {
  "kernelspec": {
   "display_name": "Python 3",
   "language": "python",
   "name": "python3"
  },
  "language_info": {
   "codemirror_mode": {
    "name": "ipython",
    "version": 3
   },
   "file_extension": ".py",
   "mimetype": "text/x-python",
   "name": "python",
   "nbconvert_exporter": "python",
   "pygments_lexer": "ipython3",
   "version": "3.8.5"
  }
 },
 "nbformat": 4,
 "nbformat_minor": 4
}
