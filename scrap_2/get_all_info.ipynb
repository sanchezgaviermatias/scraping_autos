{
 "cells": [
  {
   "cell_type": "code",
   "execution_count": 1,
   "metadata": {},
   "outputs": [
    {
     "name": "stdout",
     "output_type": "stream",
     "text": [
      "importing Jupyter notebook from metodos_scraping.ipynb\n",
      "importing Jupyter notebook from metodos_scraping.ipynb\n"
     ]
    }
   ],
   "source": [
    "import time\n",
    "from datetime import datetime\n",
    "from selenium.webdriver.chrome.options import Options\n",
    "from selenium import webdriver\n",
    "from selenium import webdriver\n",
    "from selenium.webdriver.support.ui import WebDriverWait\n",
    "from selenium.webdriver.common.by import By\n",
    "from selenium.webdriver.support import expected_conditions as EC\n",
    "from selenium.webdriver.common.keys import Keys\n",
    "from selenium.webdriver.support.ui import Select\n",
    "from bs4 import BeautifulSoup\n",
    "from selenium import webdriver\n",
    "import pprint\n",
    "import pandas as pd\n",
    "import names as nm\n",
    "import numpy as np\n",
    "import traceback\n",
    "import import_ipynb\n",
    "import importlib;\n",
    "import metodos_scraping;\n",
    "from metodos_scraping import *;\n",
    "import datetime\n",
    "from selenium.webdriver.common.desired_capabilities import DesiredCapabilities\n",
    "#Recargar modulo\n",
    "importlib.reload(metodos_scraping);\n",
    "import json\n",
    "import ast"
   ]
  },
  {
   "cell_type": "code",
   "execution_count": 2,
   "metadata": {},
   "outputs": [],
   "source": [
    "options = Options()\n",
    "options.add_argument(\"--window-size=1980,1080\")\n",
    "options.add_argument(\"start-maximized\")\n",
    "options.add_experimental_option(\"excludeSwitches\", [\"enable-automation\"])\n",
    "options.add_experimental_option('useAutomationExtension', False)\n",
    "driver = webdriver.Chrome(options=options)\n",
    "url = \"https://www.comparaencasa.com/seguros-de-auto/cotizador/?car_brand=157&year=2021&click=car_version_box&scroll=car_version_box&focus=id_car_model&%2F=undefined\"\n",
    "driver.get(url)\n",
    "\n"
   ]
  },
  {
   "cell_type": "code",
   "execution_count": 3,
   "metadata": {},
   "outputs": [],
   "source": [
    "driver.execute_script(\"document.getElementById('id_year').style.display = 'block';\")\n",
    "driver.execute_script(\"document.getElementById('id_car_brand').style.display = 'block';\")\n",
    "driver.execute_script(\"document.getElementById('id_car_model').style.display = 'block';\")\n",
    "driver.execute_script(\"document.getElementById('id_car_version').style.display = 'block';\")\n"
   ]
  },
  {
   "cell_type": "code",
   "execution_count": null,
   "metadata": {},
   "outputs": [],
   "source": [
    "#Marca\n",
    "select_marca = Select(driver.find_element_by_name('car_brand'))\n",
    "opciones_marca = select_marca.options\n",
    "marcas=  []\n",
    "\n",
    "#Año\n",
    "select_ano = Select(driver.find_element_by_name('year'))\n",
    "opciones_ano = select_marca.options\n",
    "\n",
    "#Modelo\n",
    "select_modelo = Select(driver.find_element_by_id('id_car_model'))\n",
    "opciones_modelo = select_modelo.options\n",
    "\n",
    "\n",
    "#Version\n",
    "select_version = Select(driver.find_element_by_id('id_car_version'))\n",
    "opciones_version =  select_version.options\n",
    "\n",
    "data = {}\n",
    "for marca in opciones_marca[2:8]:\n",
    "    marca.click()\n",
    "    data[f\"{marca.text}\"] = []\n",
    "    opciones_ano[1].click()\n",
    "    for modelo in opciones_modelo[1:]:\n",
    "        data[f\"{marca.text}\"].append(modelo.text)\n",
    "        modelo.click()\n",
    "        for ver in opciones_version[1]\n",
    "        "
   ]
  },
  {
   "cell_type": "code",
   "execution_count": 11,
   "metadata": {},
   "outputs": [],
   "source": [
    "select_version = Select(driver.find_element_by_id('id_car_version'))\n",
    "\"L/17\".upper().strip() == select_version.options[1].text\n",
    "select_version.select_by_visible_text(\"L/17\")"
   ]
  },
  {
   "cell_type": "code",
   "execution_count": null,
   "metadata": {},
   "outputs": [],
   "source": []
  }
 ],
 "metadata": {
  "kernelspec": {
   "display_name": "Python 3",
   "language": "python",
   "name": "python3"
  },
  "language_info": {
   "codemirror_mode": {
    "name": "ipython",
    "version": 3
   },
   "file_extension": ".py",
   "mimetype": "text/x-python",
   "name": "python",
   "nbconvert_exporter": "python",
   "pygments_lexer": "ipython3",
   "version": "3.8.5"
  }
 },
 "nbformat": 4,
 "nbformat_minor": 4
}
