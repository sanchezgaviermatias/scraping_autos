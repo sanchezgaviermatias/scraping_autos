{
 "cells": [
  {
   "cell_type": "markdown",
   "metadata": {},
   "source": [
    "### Librerias"
   ]
  },
  {
   "cell_type": "code",
   "execution_count": 45,
   "metadata": {},
   "outputs": [],
   "source": [
    "import time\n",
    "from datetime import datetime\n",
    "from selenium.webdriver.chrome.options import Options\n",
    "from selenium import webdriver\n",
    "from selenium import webdriver\n",
    "from selenium.webdriver.support.ui import WebDriverWait\n",
    "from selenium.webdriver.common.by import By\n",
    "from selenium.webdriver.support import expected_conditions as EC\n",
    "from selenium.webdriver.common.keys import Keys\n",
    "from bs4 import BeautifulSoup\n",
    "from selenium import webdriver\n",
    "import pprint\n",
    "import pandas as pd\n",
    "import names as nm\n",
    "import numpy as np\n",
    "import traceback"
   ]
  },
  {
   "cell_type": "markdown",
   "metadata": {},
   "source": [
    "###  Código"
   ]
  },
  {
   "cell_type": "code",
   "execution_count": 51,
   "metadata": {},
   "outputs": [],
   "source": [
    "def click_boton(xpath, nombre_auxilliar=\"marca\"):\n",
    "    \"dado un full xpath hace click\"\n",
    "    #chequea que el elemento exista\n",
    "    elemento  = WebDriverWait(driver, 15).until( \\\n",
    "        EC.presence_of_element_located((By.XPATH, f\"{xpath}\")))\n",
    "    time.sleep(0.8)\n",
    "    elemento.click()\n",
    "\n",
    "    \n",
    "def escribir_y_enter(xpath, texto=\"\", sleep_time=0):\n",
    "    \"dado un full xpath hace click, envía un texto y apreta enter\"\n",
    "    elemento = WebDriverWait(driver, 10).until( \\\n",
    "        EC.presence_of_element_located((By.XPATH, f\"{xpath}\")))\n",
    "    time.sleep(sleep_time) #duerme un tiempo\n",
    "    elemento.click()\n",
    "    elemento.send_keys(texto, Keys.ENTER)\n",
    "    \n",
    "\n",
    "def soup_of_page(driver):\n",
    "    time.sleep(2.5)\n",
    "    html = driver.page_source\n",
    "    soup = BeautifulSoup(html, 'lxml')\n",
    "    return soup\n",
    "\n",
    "def generar_persona():\n",
    "    '''return \n",
    "    sexo, nombre, apellido, email, numero'''\n",
    "    #nombre y apeelido\n",
    "    sexo =np.random.binomial(n=1, p=0.5)\n",
    "    sexo = np.where(sexo==0, \"male\", \"female\" )\n",
    "    random_number= np.random.randint(0,9999, 1)[0]\n",
    "    nombre = nm.get_first_name(gender=sexo)\n",
    "    apellido =  nm.get_last_name()\n",
    "    fin_mail= \"@gmail.com\"\n",
    "    email = nombre+apellido+str(random_number)+fin_mail\n",
    "    email = email.lower()\n",
    "    numero = np.random.randint(0,9,size=8)\n",
    "    numero_str = ''.join([str(elem) for elem in numero])\n",
    "\n",
    "    return sexo, nombre, apellido, email, numero_str\n",
    "\n",
    "\n",
    "def chequera_indice_provincia(html_tags, key):\n",
    "    '''busca la provincia key en el array de html tags\n",
    "    y devuelve el indice'''\n",
    "    prov = key.strip().capitalize()\n",
    "    for idx, provi in  enumerate(html_tags):\n",
    "        res  = provi.get_text()\n",
    "        res = str(res)\n",
    "        res = res.strip().capitalize()\n",
    "        if res == prov:\n",
    "            return idx+1\n",
    "    return \"no encontrado\""
   ]
  },
  {
   "cell_type": "code",
   "execution_count": 54,
   "metadata": {},
   "outputs": [],
   "source": [
    "options = Options()\n",
    "options.add_argument(\"--window-size=1980,1080\")\n",
    "options.add_argument(\"start-maximized\")\n",
    "options.add_experimental_option(\"excludeSwitches\", [\"enable-automation\"])\n",
    "options.add_experimental_option('useAutomationExtension', False)\n",
    "#options.add_argument(\"--headless\")\n",
    "driver = webdriver.Chrome(options=options)\n",
    "\n",
    "nuevo = True\n",
    "\n",
    "def get_url_perfil(marca, año, modelo, fecha, version ,  provincia, localidad, nuevo, id_perfil):\n",
    "    tic = time.perf_counter()\n",
    "    driver.get('https://www.123seguro.com.ar/seguros/auto/cotizar/marca')\n",
    "    time.sleep(6)\n",
    "    # Selección marca\n",
    "    mas_marcas_path = \"/html/body/div[1]/section/main/section[2]/section/div/section/section/div[2]/button\"\n",
    "    click_boton(mas_marcas_path)\n",
    "\n",
    "    # Busqueda de Marca Particular\n",
    "    soup = soup_of_page(driver)\n",
    "    divs_marcas = soup.find_all(\"button\", {\"class\":\"ui-button-selector\"})\n",
    "    marcas = [ x.get_text().strip().capitalize()  for x in divs_marcas  ]\n",
    "    marca = marca.strip().capitalize()\n",
    "    idx_marca = [key+1 for key, val in enumerate(marcas)if val in [marca]][0]\n",
    "\n",
    "    marca_path= f\"/html/body/div[1]/section/main/section[2]/section/div/section/section/div[2]/div/button[{idx_marca}]\"\n",
    "    click_boton(marca_path)\n",
    "\n",
    "\n",
    "    # Provincia\n",
    "    soup = soup_of_page(driver)\n",
    "    divs_provicinas = soup.find_all(\"button\", {\"class\":\"ui-button-selector\"})\n",
    "    idx_provincia = chequera_indice_provincia(divs_provicinas, \"Capital Federal\")\n",
    "\n",
    "\n",
    "    # Año \n",
    "    año_path = \"/html/body/div[1]/section/main/section[2]/section/div/section/div[1]/div[2]/div/div/input\"\n",
    "    escribir_y_enter(año_path, texto = año)\n",
    "\n",
    "\n",
    "    # Modelo \n",
    "    modelo_path = '/html/body/div[1]/section/main/section[2]/section/div/section/div/div[1]/div[2]/div/div[2]/div/input'\n",
    "    modelo = modelo.strip().capitalize()\n",
    "    escribir_y_enter(modelo_path, texto= modelo, sleep_time=1.5)\n",
    "    try: \n",
    "        click_boton(\"/html/body/div[1]/section/main/section[2]/section/div/section/div/div[2]/div/div/div/button[1]\") \n",
    "    except:\n",
    "        print(\"el modelo se encontro!\")\n",
    "    \n",
    "    # Especifico\n",
    "    print(version)\n",
    "    especifico_path = '/html/body/div[1]/section/main/section[2]/section/div/section/div[1]/div[2]/div/div/input'\n",
    "    escribir_y_enter(xpath=especifico_path, texto=version, sleep_time=3)\n",
    "    #seleccionar primera opción\n",
    "    click_boton(\"/html/body/div[1]/section/main/section[2]/section/div/section/div[2]/div[1]/div/button[1]\")\n",
    "    \n",
    "    if año==\"2021\":\n",
    "        if nuevo:\n",
    "            click_boton(\"/html/body/div[1]/section/main/section[2]/section/div/section/div[2]/button[1]\")\n",
    "\n",
    "        else:\n",
    "            click_boton(\"/html/body/div[1]/section/main/section[2]/section/div/section/div[2]/button[2]\")\n",
    "\n",
    "    #continuar\n",
    "    click_boton('/html/body/div[1]/section/main/section[2]/section/div/section/div[2]/button')\n",
    "\n",
    "    \n",
    "    #persona \n",
    "    sexo, nombre, apellido, email, numero = generar_persona()\n",
    "\n",
    "    #Nombre y Apellido\n",
    "    nombre_path = '/html/body/div[1]/section/main/section[2]/section/div/section/div/div[2]/div/form/div[1]/div/input'\n",
    "    escribir_y_enter(nombre_path,nombre, sleep_time=1 )\n",
    "\n",
    "    apellido_path ='/html/body/div[1]/section/main/section[2]/section/div/section/div/div[2]/div/form/div[2]/div/input'\n",
    "    escribir_y_enter(apellido_path, apellido, sleep_time=1)\n",
    "\n",
    "\n",
    "    #Fecha \n",
    "    fecha_path = '/html/body/div[1]/section/main/section[2]/section/div/section/div[2]/div/form/div/div/div/input'\n",
    "    escribir_y_enter(fecha_path, texto=fecha, sleep_time=1.4 )\n",
    "\n",
    "    #Provincias\n",
    "    click_boton('/html/body/div[1]/section/main/section[2]/section/div/section/div[1]/div[2]/div/div')\n",
    "    time.sleep(1)\n",
    "\n",
    "    #Busqueda de Opciones de provincia\n",
    "    soup = soup_of_page(driver)\n",
    "    divs_provicinas = soup.find_all(\"div\", {\"class\":\"option\"})\n",
    "    idx_provincia = chequera_indice_provincia(divs_provicinas, provincia)\n",
    "    click_boton(f\"/html/body/div[1]/section/main/section[2]/section/div/section/div[1]/div[2]/div[1]/div[2]/div[{idx_provincia}]\") #Volvemos con Selenium\n",
    "\n",
    "    #LOCALIDAD\n",
    "    locacion_path = '//*[@id=\"location-selection\"]/div[1]/div[2]/div[2]/div[1]/div/input'\n",
    "    escribir_y_enter( '//*[@id=\"location-selection\"]/div[1]/div[2]/div[2]/div[1]/div/input', texto=localidad, sleep_time=2)\n",
    "\n",
    "    #Mail\n",
    "    mail_path = '/html/body/div[1]/section/main/section[2]/section/div/section/div[2]/div/form/div/div/input'\n",
    "    escribir_y_enter(mail_path,email )\n",
    "\n",
    "    #Telefono\n",
    "    cod_area_path ='/html/body/div[1]/section/main/section[2]/section/div/section/div[2]/div/form/div[2]/div[2]/div/input'\n",
    "    escribir_y_enter(cod_area_path, texto=\"11\")\n",
    "\n",
    "    telefono_path = '/html/body/div[1]/section/main/section[2]/section/div/section/div[2]/div/form/div[2]/div[3]/div/input'\n",
    "    escribir_y_enter(telefono_path, numero)\n",
    "\n",
    "    time.sleep(12)\n",
    "\n",
    "    url = driver.current_url\n",
    "    \n",
    "    toc =  time.perf_counter()\n",
    "    runtime = toc-tic\n",
    "    print(f\"*[{id_perfil}] - Cargar el url llevo {runtime} segundos!\")\n",
    "    \n",
    "    return url"
   ]
  },
  {
   "cell_type": "code",
   "execution_count": 55,
   "metadata": {},
   "outputs": [],
   "source": [
    "def testear_un_caso(_id):\n",
    "    \"\"\"Comprueba como funciona el scrap para un id de la tabla del excel\"\"\"\n",
    "    data = pd.read_excel(\"./perfiles.xlsx\", sheet_name=\"perfiles\")\n",
    "    df = data[data[\"id\"]==_id]\n",
    "    data_dict= dict(data.loc[_id, :])\n",
    "    valores = data_dict.values()\n",
    "    params = [str(v) for v in valores]\n",
    "    id_perfil, marca, año, modelo, version, \\\n",
    "    fecha, provincia, localidad = params\n",
    "\n",
    "    url = get_url_perfil(marca, año, modelo, fecha, version, provincia, localidad, nuevo, id_perfil)"
   ]
  },
  {
   "cell_type": "code",
   "execution_count": 56,
   "metadata": {},
   "outputs": [],
   "source": [
    "def get_urls_all_perfiles(direccion_excel):\n",
    "    data = pd.read_excel(direccion_excel, sheet_name=\"perfiles\")\n",
    "    cantidad_perfiles =  data.shape[0]\n",
    "    urls = {}\n",
    "    \n",
    "    print(f\"* El tiempo estimado de Ejecución Total son {46*cantidad_perfiles} segundos 😘\")\n",
    "    for i in range(cantidad_perfiles):\n",
    "        try:\n",
    "            data_dict= dict(data.loc[i, :])\n",
    "            valores = data_dict.values()\n",
    "            params = [str(v) for v in valores]\n",
    "            id_perfil, marca, año, modelo, version, \\\n",
    "            fecha, provincia, localidad = params\n",
    "            url = get_url_perfil(marca, año, modelo, fecha, version, provincia, localidad, nuevo, id_perfil)\n",
    "            urls[f\"{id_perfil}\"]= url\n",
    "        except:\n",
    "            traceback.print_exc()\n",
    "            print(f\"* El perfil {id_perfil} Fallo, continuando con el siguiente\")\n",
    "        \n",
    "        print(\"\\nLa lista de urls está así:\")\n",
    "        pprint.pprint(urls)\n",
    "    return urls"
   ]
  },
  {
   "cell_type": "code",
   "execution_count": 57,
   "metadata": {},
   "outputs": [
    {
     "name": "stdout",
     "output_type": "stream",
     "text": [
      "* El tiempo estimado de Ejecución Total son 230 segundos 😘\n",
      "el modelo se encontro!\n",
      "CAMARO SS L/17 de CAMARO\n"
     ]
    },
    {
     "name": "stderr",
     "output_type": "stream",
     "text": [
      "Traceback (most recent call last):\n",
      "  File \"<ipython-input-56-8a6bce7897f4>\", line 14, in get_urls_all_perfiles\n",
      "    url = get_url_perfil(marca, año, modelo, fecha, version, provincia, localidad, nuevo, id_perfil)\n",
      "  File \"<ipython-input-54-d680fb793f7e>\", line 55, in get_url_perfil\n",
      "    click_boton(\"/html/body/div[1]/section/main/section[2]/section/div/section/div[2]/div[1]/div/button[1]\")\n",
      "  File \"<ipython-input-51-91527aa96df1>\", line 4, in click_boton\n",
      "    elemento  = WebDriverWait(driver, 15).until( \\\n",
      "  File \"C:\\Users\\Matias\\anaconda3\\lib\\site-packages\\selenium\\webdriver\\support\\wait.py\", line 80, in until\n",
      "    raise TimeoutException(message, screen, stacktrace)\n",
      "selenium.common.exceptions.TimeoutException: Message: \n",
      "\n"
     ]
    },
    {
     "name": "stdout",
     "output_type": "stream",
     "text": [
      "* El perfil 1 Fallo, continuando con el siguiente\n",
      "\n",
      "La lista de urls está así:\n",
      "{}\n",
      "el modelo se encontro!\n",
      "L/16 1.6 4 P S\n"
     ]
    },
    {
     "name": "stderr",
     "output_type": "stream",
     "text": [
      "Traceback (most recent call last):\n",
      "  File \"<ipython-input-56-8a6bce7897f4>\", line 14, in get_urls_all_perfiles\n",
      "    url = get_url_perfil(marca, año, modelo, fecha, version, provincia, localidad, nuevo, id_perfil)\n",
      "  File \"<ipython-input-54-d680fb793f7e>\", line 55, in get_url_perfil\n",
      "    click_boton(\"/html/body/div[1]/section/main/section[2]/section/div/section/div[2]/div[1]/div/button[1]\")\n",
      "  File \"<ipython-input-51-91527aa96df1>\", line 4, in click_boton\n",
      "    elemento  = WebDriverWait(driver, 15).until( \\\n",
      "  File \"C:\\Users\\Matias\\anaconda3\\lib\\site-packages\\selenium\\webdriver\\support\\wait.py\", line 80, in until\n",
      "    raise TimeoutException(message, screen, stacktrace)\n",
      "selenium.common.exceptions.TimeoutException: Message: \n",
      "\n"
     ]
    },
    {
     "name": "stdout",
     "output_type": "stream",
     "text": [
      "* El perfil 2 Fallo, continuando con el siguiente\n",
      "\n",
      "La lista de urls está así:\n",
      "{}\n",
      "2.0 XEI L/20 CVT\n"
     ]
    },
    {
     "name": "stderr",
     "output_type": "stream",
     "text": [
      "Traceback (most recent call last):\n",
      "  File \"<ipython-input-56-8a6bce7897f4>\", line 14, in get_urls_all_perfiles\n",
      "    url = get_url_perfil(marca, año, modelo, fecha, version, provincia, localidad, nuevo, id_perfil)\n",
      "  File \"<ipython-input-54-d680fb793f7e>\", line 55, in get_url_perfil\n",
      "    click_boton(\"/html/body/div[1]/section/main/section[2]/section/div/section/div[2]/div[1]/div/button[1]\")\n",
      "  File \"<ipython-input-51-91527aa96df1>\", line 4, in click_boton\n",
      "    elemento  = WebDriverWait(driver, 15).until( \\\n",
      "  File \"C:\\Users\\Matias\\anaconda3\\lib\\site-packages\\selenium\\webdriver\\support\\wait.py\", line 80, in until\n",
      "    raise TimeoutException(message, screen, stacktrace)\n",
      "selenium.common.exceptions.TimeoutException: Message: \n",
      "\n"
     ]
    },
    {
     "name": "stdout",
     "output_type": "stream",
     "text": [
      "* El perfil 3 Fallo, continuando con el siguiente\n",
      "\n",
      "La lista de urls está así:\n",
      "{}\n",
      "el modelo se encontro!\n",
      "L/16 2.4 DC 4x4 TDI DX\n"
     ]
    },
    {
     "name": "stderr",
     "output_type": "stream",
     "text": [
      "Traceback (most recent call last):\n",
      "  File \"<ipython-input-56-8a6bce7897f4>\", line 14, in get_urls_all_perfiles\n",
      "    url = get_url_perfil(marca, año, modelo, fecha, version, provincia, localidad, nuevo, id_perfil)\n",
      "  File \"<ipython-input-54-d680fb793f7e>\", line 55, in get_url_perfil\n",
      "    click_boton(\"/html/body/div[1]/section/main/section[2]/section/div/section/div[2]/div[1]/div/button[1]\")\n",
      "  File \"<ipython-input-51-91527aa96df1>\", line 4, in click_boton\n",
      "    elemento  = WebDriverWait(driver, 15).until( \\\n",
      "  File \"C:\\Users\\Matias\\anaconda3\\lib\\site-packages\\selenium\\webdriver\\support\\wait.py\", line 80, in until\n",
      "    raise TimeoutException(message, screen, stacktrace)\n",
      "selenium.common.exceptions.TimeoutException: Message: \n",
      "\n"
     ]
    },
    {
     "name": "stdout",
     "output_type": "stream",
     "text": [
      "* El perfil 4 Fallo, continuando con el siguiente\n",
      "\n",
      "La lista de urls está así:\n",
      "{}\n",
      "el modelo se encontro!\n",
      "1.4 LT L/17\n",
      "* El perfil 5 Fallo, continuando con el siguiente\n",
      "\n",
      "La lista de urls está así:\n",
      "{}\n"
     ]
    },
    {
     "name": "stderr",
     "output_type": "stream",
     "text": [
      "Traceback (most recent call last):\n",
      "  File \"<ipython-input-56-8a6bce7897f4>\", line 14, in get_urls_all_perfiles\n",
      "    url = get_url_perfil(marca, año, modelo, fecha, version, provincia, localidad, nuevo, id_perfil)\n",
      "  File \"<ipython-input-54-d680fb793f7e>\", line 55, in get_url_perfil\n",
      "    click_boton(\"/html/body/div[1]/section/main/section[2]/section/div/section/div[2]/div[1]/div/button[1]\")\n",
      "  File \"<ipython-input-51-91527aa96df1>\", line 4, in click_boton\n",
      "    elemento  = WebDriverWait(driver, 15).until( \\\n",
      "  File \"C:\\Users\\Matias\\anaconda3\\lib\\site-packages\\selenium\\webdriver\\support\\wait.py\", line 80, in until\n",
      "    raise TimeoutException(message, screen, stacktrace)\n",
      "selenium.common.exceptions.TimeoutException: Message: \n",
      "\n"
     ]
    }
   ],
   "source": [
    "urls = get_urls_all_perfiles(direccion_excel=\"./perfiles.xlsx\")"
   ]
  },
  {
   "cell_type": "code",
   "execution_count": 37,
   "metadata": {},
   "outputs": [],
   "source": [
    "urls={'1': 'https://cotizador.123seguro.com.ar/cotizar-auto/lead/1026957/#cotizaciones',\n",
    " '2': 'https://cotizador.123seguro.com.ar/cotizar-auto/lead/1026959/#',\n",
    " '3': 'https://cotizador.123seguro.com.ar/cotizar-auto/lead/1026960/#',\n",
    " '4': 'https://cotizador.123seguro.com.ar/cotizar-auto/lead/1026961/#cotizaciones/info-personal#lead',\n",
    " '5': 'https://cotizador.123seguro.com.ar/cotizar-auto/lead/1026963/#'}"
   ]
  },
  {
   "cell_type": "code",
   "execution_count": 42,
   "metadata": {},
   "outputs": [],
   "source": [
    "def guardar_urls(urls):\n",
    "    df = pd.DataFrame(urls, index=[\"Seguros\"])\n",
    "    df = df.T\n",
    "    df = df.reset_index()\n",
    "    df = df.rename(columns={\"index\":\"Id\"})\n",
    "    df.to_excel('./urls.xlsx', sheet_name=\"urls\", index=False)"
   ]
  },
  {
   "cell_type": "code",
   "execution_count": 43,
   "metadata": {},
   "outputs": [],
   "source": [
    "guardar_urls(urls, )"
   ]
  },
  {
   "cell_type": "code",
   "execution_count": null,
   "metadata": {},
   "outputs": [],
   "source": []
  }
 ],
 "metadata": {
  "kernelspec": {
   "display_name": "Python 3",
   "language": "python",
   "name": "python3"
  },
  "language_info": {
   "codemirror_mode": {
    "name": "ipython",
    "version": 3
   },
   "file_extension": ".py",
   "mimetype": "text/x-python",
   "name": "python",
   "nbconvert_exporter": "python",
   "pygments_lexer": "ipython3",
   "version": "3.8.5"
  }
 },
 "nbformat": 4,
 "nbformat_minor": 4
}
