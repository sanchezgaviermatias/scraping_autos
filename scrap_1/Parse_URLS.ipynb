{
 "cells": [
  {
   "cell_type": "markdown",
   "metadata": {},
   "source": [
    "### Librerias"
   ]
  },
  {
   "cell_type": "code",
   "execution_count": 1,
   "metadata": {},
   "outputs": [],
   "source": [
    "import time\n",
    "from selenium.webdriver.chrome.options import Options\n",
    "from selenium import webdriver\n",
    "from selenium import webdriver\n",
    "from selenium.webdriver.support.ui import WebDriverWait\n",
    "from selenium.webdriver.common.by import By\n",
    "from selenium.webdriver.support import expected_conditions as EC\n",
    "from bs4 import BeautifulSoup\n",
    "import re\n",
    "from datetime import datetime\n",
    "from selenium import webdriver\n",
    "import pprint\n",
    "import pandas as pd\n"
   ]
  },
  {
   "cell_type": "markdown",
   "metadata": {},
   "source": [
    "### Código  "
   ]
  },
  {
   "cell_type": "code",
   "execution_count": 2,
   "metadata": {},
   "outputs": [],
   "source": [
    "class PaginaScrap:\n",
    "    \"\"\"\n",
    "    Es el Scrap de una Página de 123SEguros.\n",
    "    ...\n",
    "\n",
    "    Attributes\n",
    "    ----------\n",
    "    companias : lista\n",
    "        companias en la pagina web\n",
    "    data : dataframe\n",
    "        representa la data scrapeada\n",
    "\n",
    "\n",
    "    Methods\n",
    "    -------\n",
    "    guardar_csv(self, ruta=\"./generica.csv\"):\n",
    "        Prints the person's name and age.\n",
    "    \"\"\"\n",
    "    \n",
    "    def __init__(self, _id, nombre_excel, mostrar=False):\n",
    "        self.driver = None\n",
    "        self.coberturas = [\"Responsabilidad Civil\",\"Terceros Completos\",\\\n",
    "                           \"Terceros Completos Full\", \"Terceros Completos Full + Granizo\",\\\n",
    "                           \"Todo Riesgo\"]\n",
    "        \n",
    "        self.nombre_excel = nombre_excel\n",
    "        self.url = None\n",
    "        self._id = _id\n",
    "        self.companias = [] \n",
    "        self.data = None\n",
    "        self.html = None\n",
    "        self.soup = None\n",
    "        self.mostrar = mostrar\n",
    "        self.date = datetime.date(datetime.now()).strftime(\"%d/%m/%Y\")\n",
    "        \n",
    "        #Funciones que arrancan con inicializacion\n",
    "        self.get_url()\n",
    "        self.get_selenium_starting()\n",
    "        self.go_to_url()\n",
    "        time.sleep(30)\n",
    "        self.get_companias()\n",
    "        self.crear_df()\n",
    "       \n",
    "    \n",
    "    def get_selenium_starting(self):\n",
    "        '''Opciones básicas de Selenium'''\n",
    "        options = Options()\n",
    "        options.add_argument(\"--window-size=1980,1080\")\n",
    "        options.add_argument(\"start-maximized\")\n",
    "        options.add_experimental_option(\"excludeSwitches\", [\"enable-automation\"])\n",
    "        options.add_experimental_option('useAutomationExtension', False)\n",
    "        options.add_argument(\"--headless\")\n",
    "        self.driver = webdriver.Chrome(options=options)\n",
    "    \n",
    "    \n",
    "    def get_url(self):\n",
    "        urls = pd.read_excel(f'./urls.xlsx' , sheet_name=\"urls\")\n",
    "        url = urls[urls[\"Id\"]==self._id][\"Seguros\"]\n",
    "        url = url.to_list()[0]\n",
    "        self.url = url\n",
    "        \n",
    "        \n",
    "    def go_to_url(self):\n",
    "        '''Carga el url de la página'''\n",
    "        self.driver.get(self.url)\n",
    "\n",
    "        \n",
    "    def get_companias(self): \n",
    "        '''Encuentra las Companias en base a las imagenes'''\n",
    "        self.html = self.driver.page_source\n",
    "        self.soup = BeautifulSoup(self.html, 'lxml')\n",
    "        \n",
    "        images = self.soup.find_all('img',{'src':re.compile('/images/front/table/*')})\n",
    "        for image in images:\n",
    "            compania = image['src'].split(\"/\")[4].split(\".\")[0] \n",
    "            self.companias.append(compania)\n",
    "\n",
    "        self.companias = self.companias[1:]\n",
    "    \n",
    "    def crear_df(self):\n",
    "        '''Crea el DataFrame con las datas en self.data'''\n",
    "        rows = [self.soup.find('tr', {\"data-company\":  compania.capitalize()}) for compania in  self.companias]\n",
    "        self.data = {}\n",
    "        for row, compania in zip(rows, self.companias):\n",
    "            self.data[f\"{compania}\"] = {} \n",
    "            for cob in self.coberturas:\n",
    "                self.data[f\"{compania}\"][f\"{cob}\"] = \"nan\"\n",
    "                price_tag = row.find('td', {\"data-cobertura\":cob}).find(\"div\", {\"class\":\"inner\"}) \n",
    "                if price_tag is not None:\n",
    "                    price_string = price_tag.get_text()   \n",
    "                    self.data[f\"{compania}\"][f\"{cob}\"] =  float(price_string.split()[1])\n",
    "        \n",
    "        self.data = pd.DataFrame(self.data)\n",
    "        self.data.insert(0, 'Fecha', self.date)\n",
    "        self.data = self.data.reset_index()\n",
    "        self.data.rename(columns={\"index\":\"cobertura\"}, inplace=True)   \n",
    "        self.data.insert(0, \"id\", self._id)\n",
    "\n",
    "        return self.data\n",
    "    \n",
    "    \n",
    "\n",
    "    def guardar_excel(self):\n",
    "        try: \n",
    "            completo_df = pd.read_excel(f'./{self.nombre_excel}.xlsx' )\n",
    "        except:\n",
    "            completo_df = pd.DataFrame(columns=['id','cobertura','Fecha','allianz','zurich','sura',\n",
    "                                 'mercantil','provincia','orbis','mapfre','sancor','prudencia','galeno','experta'])\n",
    "        resultado = pd.concat([completo_df ,self.data,])\n",
    "        resultado = resultado.drop_duplicates(subset =[\"cobertura\", \"id\", \"Fecha\"] ,keep='last')\n",
    "        resultado = resultado.fillna(\"nan\")\n",
    "        resultado.to_excel(f'./{self.nombre_excel}.xlsx'  , sheet_name=\"data\", index=False)"
   ]
  },
  {
   "cell_type": "code",
   "execution_count": 3,
   "metadata": {},
   "outputs": [],
   "source": [
    "tiempo_x_run = 37\n",
    "\n",
    "def generete_all_data(ids, nombre_excel=\"data_perfiles\"):\n",
    "    '''Genera todos los datos para la lista de ids que se le pase,\n",
    "    usando la Clase PaginaScarp'''\n",
    "    print(f\"Tiempo estimado total es {round((tiempo_x_run*len(ids))/60)} minutos.\")\n",
    "    for _id in ids:\n",
    "        try:\n",
    "            pagina = PaginaScrap(_id, nombre_excel)\n",
    "        except:\n",
    "            print(f\"Hubo un erro con el {_id}\")\n",
    "            continue\n",
    "        pagina.guardar_excel()\n",
    "        print(f\"*ID: {_id}: finalizado correctamente!\")\n",
    "    print(\"Proceso Completado! \")\n",
    "        "
   ]
  },
  {
   "cell_type": "markdown",
   "metadata": {},
   "source": [
    "### Generar todos Los Perfiles "
   ]
  },
  {
   "cell_type": "code",
   "execution_count": 4,
   "metadata": {},
   "outputs": [
    {
     "name": "stdout",
     "output_type": "stream",
     "text": [
      "Tiempo estimado total es 3 minutos.\n",
      "*ID: 1: finalizado correctamente!\n",
      "*ID: 2: finalizado correctamente!\n",
      "*ID: 3: finalizado correctamente!\n",
      "*ID: 4: finalizado correctamente!\n",
      "*ID: 5: finalizado correctamente!\n",
      "Proceso Completado! \n"
     ]
    }
   ],
   "source": [
    "generete_all_data([1,2,3,4,5])"
   ]
  },
  {
   "cell_type": "markdown",
   "metadata": {},
   "source": [
    "### Generar un único Perfil "
   ]
  },
  {
   "cell_type": "code",
   "execution_count": 39,
   "metadata": {},
   "outputs": [],
   "source": [
    "#Ingrese el ID del Perfil\n",
    "pagina = PaginaScrap(3, nombre_excel=\"data_perfiles\")\n",
    "pagina.guardar_excel()"
   ]
  },
  {
   "cell_type": "code",
   "execution_count": null,
   "metadata": {},
   "outputs": [],
   "source": []
  }
 ],
 "metadata": {
  "kernelspec": {
   "display_name": "Python 3",
   "language": "python",
   "name": "python3"
  },
  "language_info": {
   "codemirror_mode": {
    "name": "ipython",
    "version": 3
   },
   "file_extension": ".py",
   "mimetype": "text/x-python",
   "name": "python",
   "nbconvert_exporter": "python",
   "pygments_lexer": "ipython3",
   "version": "3.8.5"
  }
 },
 "nbformat": 4,
 "nbformat_minor": 4
}
